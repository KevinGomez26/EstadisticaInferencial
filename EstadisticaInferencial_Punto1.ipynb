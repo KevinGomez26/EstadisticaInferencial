{
  "nbformat": 4,
  "nbformat_minor": 0,
  "metadata": {
    "colab": {
      "provenance": [],
      "authorship_tag": "ABX9TyOVMyDVBhPsekKvZbAHINGN",
      "include_colab_link": true
    },
    "kernelspec": {
      "name": "python3",
      "display_name": "Python 3"
    },
    "language_info": {
      "name": "python"
    }
  },
  "cells": [
    {
      "cell_type": "markdown",
      "metadata": {
        "id": "view-in-github",
        "colab_type": "text"
      },
      "source": [
        "<a href=\"https://colab.research.google.com/github/KevinGomez26/EstadisticaInferencial/blob/main/EstadisticaInferencial_Punto1.ipynb\" target=\"_parent\"><img src=\"https://colab.research.google.com/assets/colab-badge.svg\" alt=\"Open In Colab\"/></a>"
      ]
    },
    {
      "cell_type": "code",
      "execution_count": 111,
      "metadata": {
        "id": "gWMLmojnQcsw"
      },
      "outputs": [],
      "source": [
        "import numpy\n",
        "from numpy.random import normal"
      ]
    },
    {
      "cell_type": "markdown",
      "source": [
        "# Modelo\n",
        "\n",
        "$y = e^{\\mathbf{x}^{\\top}\\boldsymbol{\\beta_{0}} + \\alpha_{0}}$"
      ],
      "metadata": {
        "id": "QWyVTe-efu7Z"
      }
    },
    {
      "cell_type": "code",
      "source": [
        "# numero de muestras\n",
        "N = 100\n",
        "\n",
        "# parametros reales\n",
        "beta_0 = 0.5\n",
        "alpha_0 = 1\n",
        "\n",
        "x = numpy.random.normal(0, 1, N)\n",
        "\n",
        "# se generan los datos\n",
        "y = numpy.exp(numpy.dot(x, numpy.array(beta_0)) + alpha_0)"
      ],
      "metadata": {
        "id": "uBa-p7w5mBHd"
      },
      "execution_count": 84,
      "outputs": []
    },
    {
      "cell_type": "markdown",
      "source": [
        "# Estimación de los parametros  $(\\alpha$ y $\\boldsymbol{\\beta})$\n",
        "\n",
        "estimadores de maxima verosimilitud:\n",
        "\n",
        "$\\mathbf{x}^{\\top}\\boldsymbol{\\beta} = \\log{\\frac{1}{N}\\sum_{i = 1}^{N}y_{i}} - \\alpha$\n",
        "\n",
        "$\\alpha = \\log{\\frac{1}{N}\\sum_{i = 1}^{N}y_{i}} - \\mathbf{x}^{\\top}\\boldsymbol{\\beta}$"
      ],
      "metadata": {
        "id": "C6c9nZXunx8a"
      }
    },
    {
      "cell_type": "code",
      "source": [
        "# numero de iteraciones\n",
        "iteraciones = 10\n",
        "\n",
        "# inicializacion aleatoria de los parametros\n",
        "alpha = numpy.random.random()\n",
        "beta = numpy.random.random()\n",
        "\n",
        "# estimaciond de los parametros de forma recursiva\n",
        "for i in range(iteraciones):\n",
        "\n",
        "  # se estima beta\n",
        "  new_beta = numpy.log(numpy.mean(y)) - alpha\n",
        "\n",
        "  # se estima alpha\n",
        "  new_alpha = numpy.log(numpy.mean(y)) - numpy.dot(x, beta * numpy.ones(N))\n",
        "\n",
        "  beta = new_beta\n",
        "  alpha = new_alpha\n",
        "\n",
        "print('beta: ', beta)\n",
        "print('alpha: ', alpha)"
      ],
      "metadata": {
        "id": "6T77QP5rZhzU",
        "colab": {
          "base_uri": "https://localhost:8080/"
        },
        "outputId": "1d31f0f2-fa5e-447d-f5fa-32063e9a9367"
      },
      "execution_count": 110,
      "outputs": [
        {
          "output_type": "stream",
          "name": "stdout",
          "text": [
            "beta:  -3.206340468200235\n",
            "alpha:  32.61667917944554\n"
          ]
        }
      ]
    }
  ]
}